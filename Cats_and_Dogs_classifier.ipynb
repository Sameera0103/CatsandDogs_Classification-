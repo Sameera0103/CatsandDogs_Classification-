{
  "cells": [
    {
      "cell_type": "markdown",
      "source": [
        "**IMPORTING THE NECESSARY LIBRARIES**"
      ],
      "metadata": {
        "id": "oizrAMslZUcF"
      }
    },
    {
      "cell_type": "code",
      "source": [
        "import tensorflow as tf\n",
        "from tensorflow import keras\n",
        "from keras import Sequential\n",
        "from keras.layers import Dense,Conv2D,MaxPooling2D,Flatten"
      ],
      "metadata": {
        "id": "Dx23bUP4On8W"
      },
      "execution_count": 25,
      "outputs": []
    },
    {
      "cell_type": "markdown",
      "source": [
        "**DOWNLOADING THROUGH KAGGLE**"
      ],
      "metadata": {
        "id": "Xod6EzTkZCRu"
      }
    },
    {
      "cell_type": "code",
      "execution_count": null,
      "metadata": {
        "colab": {
          "base_uri": "https://localhost:8080/"
        },
        "id": "Yl4pJUcVB3H9",
        "outputId": "eca42f0c-13d3-4f00-8613-df447c4e3f54"
      },
      "outputs": [
        {
          "name": "stdout",
          "output_type": "stream",
          "text": [
            "cp: cannot stat 'kaggle.json': No such file or directory\n"
          ]
        }
      ],
      "source": [
        "!mkdir -p ~/.kaggle\n",
        "!cp kaggle.json  ~/.kaggle/"
      ]
    },
    {
      "cell_type": "code",
      "execution_count": null,
      "metadata": {
        "colab": {
          "background_save": true
        },
        "id": "b9xWjMwVFf0I",
        "outputId": "27c8a782-5ba3-4697-d0c8-6791f81ddfb3"
      },
      "outputs": [
        {
          "name": "stdout",
          "output_type": "stream",
          "text": [
            "Traceback (most recent call last):\n",
            "  File \"/usr/local/bin/kaggle\", line 5, in <module>\n",
            "    from kaggle.cli import main\n",
            "  File \"/usr/local/lib/python3.10/dist-packages/kaggle/__init__.py\", line 23, in <module>\n",
            "    api.authenticate()\n",
            "  File \"/usr/local/lib/python3.10/dist-packages/kaggle/api/kaggle_api_extended.py\", line 403, in authenticate\n",
            "    raise IOError('Could not find {}. Make sure it\\'s located in'\n",
            "OSError: Could not find kaggle.json. Make sure it's located in /root/.kaggle. Or use the environment method.\n"
          ]
        }
      ],
      "source": [
        "!kaggle datasets download -d salader/dogs-vs-cats"
      ]
    },
    {
      "cell_type": "markdown",
      "source": [
        "**IMPORTING THE ZIPPED DATASET**"
      ],
      "metadata": {
        "id": "CAnjuAWeZHYw"
      }
    },
    {
      "cell_type": "code",
      "source": [
        "import zipfile"
      ],
      "metadata": {
        "id": "UMjxk0KsOFBV"
      },
      "execution_count": 19,
      "outputs": []
    },
    {
      "cell_type": "code",
      "source": [
        "zip_ref = zipfile.ZipFile('/content/archive (9).zip', 'r')"
      ],
      "metadata": {
        "id": "EWU4TvOROJ3K"
      },
      "execution_count": 69,
      "outputs": []
    },
    {
      "cell_type": "code",
      "source": [
        "zip_ref.extractall('/content')"
      ],
      "metadata": {
        "id": "PGBQqZ8jOZ-B"
      },
      "execution_count": 70,
      "outputs": []
    },
    {
      "cell_type": "markdown",
      "source": [
        "**READING THE CONTENTS OF THE FILE**"
      ],
      "metadata": {
        "id": "gVnD9ExkZPwH"
      }
    },
    {
      "cell_type": "code",
      "source": [
        "file_list = zip_ref.namelist()\n",
        "\n",
        "    # Print the list of files in the zipfile\n",
        "print(\"Contents of the zipfile:\")\n",
        "for file in file_list:\n",
        "        print(file)"
      ],
      "metadata": {
        "colab": {
          "base_uri": "https://localhost:8080/"
        },
        "id": "B8Hw6V0TXHY7",
        "outputId": "8b3d707d-8cad-4f63-b453-4c568e9e4c21"
      },
      "execution_count": 73,
      "outputs": [
        {
          "output_type": "stream",
          "name": "stdout",
          "text": [
            "Contents of the zipfile:\n",
            "test/cats/cat_1.jpg\n",
            "test/cats/cat_106.jpg\n",
            "test/cats/cat_109.jpg\n",
            "test/cats/cat_113.jpg\n",
            "test/cats/cat_114.jpg\n",
            "test/cats/cat_116.jpg\n",
            "test/cats/cat_118.jpg\n",
            "test/cats/cat_119.jpg\n",
            "test/cats/cat_124.jpg\n",
            "test/cats/cat_140.jpg\n",
            "test/cats/cat_147.jpg\n",
            "test/cats/cat_156.jpg\n",
            "test/cats/cat_158.jpg\n",
            "test/cats/cat_162.jpg\n",
            "test/cats/cat_18.jpg\n",
            "test/cats/cat_190.jpg\n",
            "test/cats/cat_203.jpg\n",
            "test/cats/cat_223.jpg\n",
            "test/cats/cat_234.jpg\n",
            "test/cats/cat_244.jpg\n",
            "test/cats/cat_251.jpg\n",
            "test/cats/cat_255.jpg\n",
            "test/cats/cat_268.jpg\n",
            "test/cats/cat_279.jpg\n",
            "test/cats/cat_281.jpg\n",
            "test/cats/cat_290.jpg\n",
            "test/cats/cat_306.jpg\n",
            "test/cats/cat_313.jpg\n",
            "test/cats/cat_332.jpg\n",
            "test/cats/cat_341.jpg\n",
            "test/cats/cat_342.jpg\n",
            "test/cats/cat_355.jpg\n",
            "test/cats/cat_358.jpg\n",
            "test/cats/cat_371.jpg\n",
            "test/cats/cat_375.jpg\n",
            "test/cats/cat_384.jpg\n",
            "test/cats/cat_395.jpg\n",
            "test/cats/cat_417.jpg\n",
            "test/cats/cat_418.jpg\n",
            "test/cats/cat_422.jpg\n",
            "test/cats/cat_430.jpg\n",
            "test/cats/cat_433.jpg\n",
            "test/cats/cat_446.jpg\n",
            "test/cats/cat_464.jpg\n",
            "test/cats/cat_468.jpg\n",
            "test/cats/cat_473.jpg\n",
            "test/cats/cat_496.jpg\n",
            "test/cats/cat_5.jpg\n",
            "test/cats/cat_504.jpg\n",
            "test/cats/cat_520.jpg\n",
            "test/cats/cat_523.jpg\n",
            "test/cats/cat_525.jpg\n",
            "test/cats/cat_528.jpg\n",
            "test/cats/cat_538.jpg\n",
            "test/cats/cat_542.jpg\n",
            "test/cats/cat_545.jpg\n",
            "test/cats/cat_551.jpg\n",
            "test/cats/cat_56.jpg\n",
            "test/cats/cat_564.jpg\n",
            "test/cats/cat_574.jpg\n",
            "test/cats/cat_575.jpg\n",
            "test/cats/cat_583.jpg\n",
            "test/cats/cat_585.jpg\n",
            "test/cats/cat_586.jpg\n",
            "test/cats/cat_587.jpg\n",
            "test/cats/cat_595.jpg\n",
            "test/cats/cat_60.jpg\n",
            "test/cats/cat_88.jpg\n",
            "test/cats/cat_94.jpg\n",
            "test/cats/cat_96.jpg\n",
            "test/dogs/dog_114.jpg\n",
            "test/dogs/dog_123.jpg\n",
            "test/dogs/dog_124.jpg\n",
            "test/dogs/dog_130.jpg\n",
            "test/dogs/dog_141.jpg\n",
            "test/dogs/dog_142.jpg\n",
            "test/dogs/dog_147.jpg\n",
            "test/dogs/dog_150.jpg\n",
            "test/dogs/dog_155.jpg\n",
            "test/dogs/dog_159.jpg\n",
            "test/dogs/dog_168.jpg\n",
            "test/dogs/dog_173.jpg\n",
            "test/dogs/dog_177.jpg\n",
            "test/dogs/dog_181.jpg\n",
            "test/dogs/dog_191.jpg\n",
            "test/dogs/dog_194.jpg\n",
            "test/dogs/dog_196.jpg\n",
            "test/dogs/dog_197.jpg\n",
            "test/dogs/dog_211.jpg\n",
            "test/dogs/dog_213.jpg\n",
            "test/dogs/dog_219.jpg\n",
            "test/dogs/dog_227.jpg\n",
            "test/dogs/dog_229.jpg\n",
            "test/dogs/dog_236.jpg\n",
            "test/dogs/dog_237.jpg\n",
            "test/dogs/dog_240.jpg\n",
            "test/dogs/dog_244.jpg\n",
            "test/dogs/dog_258.jpg\n",
            "test/dogs/dog_28.jpg\n",
            "test/dogs/dog_283.jpg\n",
            "test/dogs/dog_302.jpg\n",
            "test/dogs/dog_303.jpg\n",
            "test/dogs/dog_313.jpg\n",
            "test/dogs/dog_327.jpg\n",
            "test/dogs/dog_344.jpg\n",
            "test/dogs/dog_354.jpg\n",
            "test/dogs/dog_355.jpg\n",
            "test/dogs/dog_360.jpg\n",
            "test/dogs/dog_364.jpg\n",
            "test/dogs/dog_369.jpg\n",
            "test/dogs/dog_377.jpg\n",
            "test/dogs/dog_380.jpg\n",
            "test/dogs/dog_398.jpg\n",
            "test/dogs/dog_415.jpg\n",
            "test/dogs/dog_421.jpg\n",
            "test/dogs/dog_43.jpg\n",
            "test/dogs/dog_44.jpg\n",
            "test/dogs/dog_442.jpg\n",
            "test/dogs/dog_443.jpg\n",
            "test/dogs/dog_461.jpg\n",
            "test/dogs/dog_462.jpg\n",
            "test/dogs/dog_464.jpg\n",
            "test/dogs/dog_472.jpg\n",
            "test/dogs/dog_476.jpg\n",
            "test/dogs/dog_482.jpg\n",
            "test/dogs/dog_517.jpg\n",
            "test/dogs/dog_518.jpg\n",
            "test/dogs/dog_519.jpg\n",
            "test/dogs/dog_520.jpg\n",
            "test/dogs/dog_521.jpg\n",
            "test/dogs/dog_522.jpg\n",
            "test/dogs/dog_528.jpg\n",
            "test/dogs/dog_534.jpg\n",
            "test/dogs/dog_536.jpg\n",
            "test/dogs/dog_551.jpg\n",
            "test/dogs/dog_563.jpg\n",
            "test/dogs/dog_59.jpg\n",
            "test/dogs/dog_68.jpg\n",
            "test/dogs/dog_75.jpg\n",
            "test/dogs/dog_89.jpg\n",
            "train/cats/cat_10.jpg\n",
            "train/cats/cat_100.jpg\n",
            "train/cats/cat_101.jpg\n",
            "train/cats/cat_102.jpg\n",
            "train/cats/cat_103.jpg\n",
            "train/cats/cat_104.jpg\n",
            "train/cats/cat_11.jpg\n",
            "train/cats/cat_111.jpg\n",
            "train/cats/cat_12.jpg\n",
            "train/cats/cat_120.jpg\n",
            "train/cats/cat_123.jpg\n",
            "train/cats/cat_129.jpg\n",
            "train/cats/cat_13.jpg\n",
            "train/cats/cat_132.jpg\n",
            "train/cats/cat_133.jpg\n",
            "train/cats/cat_134.jpg\n",
            "train/cats/cat_137.jpg\n",
            "train/cats/cat_138.jpg\n",
            "train/cats/cat_139.jpg\n",
            "train/cats/cat_14.jpg\n",
            "train/cats/cat_141.jpg\n",
            "train/cats/cat_146.jpg\n",
            "train/cats/cat_148.jpg\n",
            "train/cats/cat_149.jpg\n",
            "train/cats/cat_15.jpg\n",
            "train/cats/cat_151.jpg\n",
            "train/cats/cat_152.jpg\n",
            "train/cats/cat_153.jpg\n",
            "train/cats/cat_159.jpg\n",
            "train/cats/cat_16.jpg\n",
            "train/cats/cat_160.jpg\n",
            "train/cats/cat_161.jpg\n",
            "train/cats/cat_163.jpg\n",
            "train/cats/cat_164.jpg\n",
            "train/cats/cat_165.jpg\n",
            "train/cats/cat_168.jpg\n",
            "train/cats/cat_169.jpg\n",
            "train/cats/cat_170.jpg\n",
            "train/cats/cat_172.jpg\n",
            "train/cats/cat_177.jpg\n",
            "train/cats/cat_179.jpg\n",
            "train/cats/cat_180.jpg\n",
            "train/cats/cat_183.jpg\n",
            "train/cats/cat_184.jpg\n",
            "train/cats/cat_189.jpg\n",
            "train/cats/cat_191.jpg\n",
            "train/cats/cat_194.jpg\n",
            "train/cats/cat_195.jpg\n",
            "train/cats/cat_198.jpg\n",
            "train/cats/cat_2.jpg\n",
            "train/cats/cat_200.jpg\n",
            "train/cats/cat_201.jpg\n",
            "train/cats/cat_202.jpg\n",
            "train/cats/cat_207.jpg\n",
            "train/cats/cat_208.jpg\n",
            "train/cats/cat_209.jpg\n",
            "train/cats/cat_21.jpg\n",
            "train/cats/cat_211.jpg\n",
            "train/cats/cat_213.jpg\n",
            "train/cats/cat_214.jpg\n",
            "train/cats/cat_215.jpg\n",
            "train/cats/cat_217.jpg\n",
            "train/cats/cat_218.jpg\n",
            "train/cats/cat_219.jpg\n",
            "train/cats/cat_220.jpg\n",
            "train/cats/cat_221.jpg\n",
            "train/cats/cat_222.jpg\n",
            "train/cats/cat_224.jpg\n",
            "train/cats/cat_225.jpg\n",
            "train/cats/cat_227.jpg\n",
            "train/cats/cat_228.jpg\n",
            "train/cats/cat_229.jpg\n",
            "train/cats/cat_230.jpg\n",
            "train/cats/cat_232.jpg\n",
            "train/cats/cat_235.jpg\n",
            "train/cats/cat_238.jpg\n",
            "train/cats/cat_24.jpg\n",
            "train/cats/cat_240.jpg\n",
            "train/cats/cat_243.jpg\n",
            "train/cats/cat_246.jpg\n",
            "train/cats/cat_247.jpg\n",
            "train/cats/cat_248.jpg\n",
            "train/cats/cat_253.jpg\n",
            "train/cats/cat_257.jpg\n",
            "train/cats/cat_26.jpg\n",
            "train/cats/cat_260.jpg\n",
            "train/cats/cat_261.jpg\n",
            "train/cats/cat_263.jpg\n",
            "train/cats/cat_265.jpg\n",
            "train/cats/cat_269.jpg\n",
            "train/cats/cat_27.jpg\n",
            "train/cats/cat_270.jpg\n",
            "train/cats/cat_271.jpg\n",
            "train/cats/cat_273.jpg\n",
            "train/cats/cat_274.jpg\n",
            "train/cats/cat_275.jpg\n",
            "train/cats/cat_276.jpg\n",
            "train/cats/cat_280.jpg\n",
            "train/cats/cat_284.jpg\n",
            "train/cats/cat_285.jpg\n",
            "train/cats/cat_289.jpg\n",
            "train/cats/cat_292.jpg\n",
            "train/cats/cat_293.jpg\n",
            "train/cats/cat_297.jpg\n",
            "train/cats/cat_298.jpg\n",
            "train/cats/cat_3.jpg\n",
            "train/cats/cat_303.jpg\n",
            "train/cats/cat_304.jpg\n",
            "train/cats/cat_307.jpg\n",
            "train/cats/cat_310.jpg\n",
            "train/cats/cat_311.jpg\n",
            "train/cats/cat_316.jpg\n",
            "train/cats/cat_317.jpg\n",
            "train/cats/cat_318.jpg\n",
            "train/cats/cat_320.jpg\n",
            "train/cats/cat_321.jpg\n",
            "train/cats/cat_325.jpg\n",
            "train/cats/cat_327.jpg\n",
            "train/cats/cat_329.jpg\n",
            "train/cats/cat_33.jpg\n",
            "train/cats/cat_330.jpg\n",
            "train/cats/cat_331.jpg\n",
            "train/cats/cat_333.jpg\n",
            "train/cats/cat_336.jpg\n",
            "train/cats/cat_34.jpg\n",
            "train/cats/cat_343.jpg\n",
            "train/cats/cat_344.jpg\n",
            "train/cats/cat_345.jpg\n",
            "train/cats/cat_348.jpg\n",
            "train/cats/cat_35.jpg\n",
            "train/cats/cat_350.jpg\n",
            "train/cats/cat_351.jpg\n",
            "train/cats/cat_352.jpg\n",
            "train/cats/cat_359.jpg\n",
            "train/cats/cat_361.jpg\n",
            "train/cats/cat_362.jpg\n",
            "train/cats/cat_363.jpg\n",
            "train/cats/cat_367.jpg\n",
            "train/cats/cat_369.jpg\n",
            "train/cats/cat_37.jpg\n",
            "train/cats/cat_370.jpg\n",
            "train/cats/cat_372.jpg\n",
            "train/cats/cat_373.jpg\n",
            "train/cats/cat_376.jpg\n",
            "train/cats/cat_377.jpg\n",
            "train/cats/cat_38.jpg\n",
            "train/cats/cat_380.jpg\n",
            "train/cats/cat_381.jpg\n",
            "train/cats/cat_385.jpg\n",
            "train/cats/cat_386.jpg\n",
            "train/cats/cat_387.jpg\n",
            "train/cats/cat_388.jpg\n",
            "train/cats/cat_39.jpg\n",
            "train/cats/cat_391.jpg\n",
            "train/cats/cat_393.jpg\n",
            "train/cats/cat_396.jpg\n",
            "train/cats/cat_397.jpg\n",
            "train/cats/cat_399.jpg\n",
            "train/cats/cat_4.jpg\n",
            "train/cats/cat_400.jpg\n",
            "train/cats/cat_402.jpg\n",
            "train/cats/cat_403.jpg\n",
            "train/cats/cat_405.jpg\n",
            "train/cats/cat_407.jpg\n",
            "train/cats/cat_408.jpg\n",
            "train/cats/cat_413.jpg\n",
            "train/cats/cat_414.jpg\n",
            "train/cats/cat_416.jpg\n",
            "train/cats/cat_419.jpg\n",
            "train/cats/cat_42.jpg\n",
            "train/cats/cat_420.jpg\n",
            "train/cats/cat_423.jpg\n",
            "train/cats/cat_426.jpg\n",
            "train/cats/cat_427.jpg\n",
            "train/cats/cat_428.jpg\n",
            "train/cats/cat_429.jpg\n",
            "train/cats/cat_43.jpg\n",
            "train/cats/cat_434.jpg\n",
            "train/cats/cat_435.jpg\n",
            "train/cats/cat_438.jpg\n",
            "train/cats/cat_440.jpg\n",
            "train/cats/cat_443.jpg\n",
            "train/cats/cat_445.jpg\n",
            "train/cats/cat_450.jpg\n",
            "train/cats/cat_452.jpg\n",
            "train/cats/cat_453.jpg\n",
            "train/cats/cat_455.jpg\n",
            "train/cats/cat_456.jpg\n",
            "train/cats/cat_46.jpg\n",
            "train/cats/cat_461.jpg\n",
            "train/cats/cat_463.jpg\n",
            "train/cats/cat_465.jpg\n",
            "train/cats/cat_466.jpg\n",
            "train/cats/cat_467.jpg\n",
            "train/cats/cat_469.jpg\n",
            "train/cats/cat_474.jpg\n",
            "train/cats/cat_482.jpg\n",
            "train/cats/cat_483.jpg\n",
            "train/cats/cat_485.jpg\n",
            "train/cats/cat_487.jpg\n",
            "train/cats/cat_489.jpg\n",
            "train/cats/cat_49.jpg\n",
            "train/cats/cat_490.jpg\n",
            "train/cats/cat_492.jpg\n",
            "train/cats/cat_493.jpg\n",
            "train/cats/cat_494.jpg\n",
            "train/cats/cat_495.jpg\n",
            "train/cats/cat_497.jpg\n",
            "train/cats/cat_498.jpg\n",
            "train/cats/cat_499.jpg\n",
            "train/cats/cat_50.jpg\n",
            "train/cats/cat_500.jpg\n",
            "train/cats/cat_505.jpg\n",
            "train/cats/cat_506.jpg\n",
            "train/cats/cat_508.jpg\n",
            "train/cats/cat_510.jpg\n",
            "train/cats/cat_511.jpg\n",
            "train/cats/cat_518.jpg\n",
            "train/cats/cat_519.jpg\n",
            "train/cats/cat_52.jpg\n",
            "train/cats/cat_524.jpg\n",
            "train/cats/cat_526.jpg\n",
            "train/cats/cat_53.jpg\n",
            "train/cats/cat_531.jpg\n",
            "train/cats/cat_532.jpg\n",
            "train/cats/cat_533.jpg\n",
            "train/cats/cat_535.jpg\n",
            "train/cats/cat_536.jpg\n",
            "train/cats/cat_54.jpg\n",
            "train/cats/cat_540.jpg\n",
            "train/cats/cat_543.jpg\n",
            "train/cats/cat_544.jpg\n",
            "train/cats/cat_546.jpg\n",
            "train/cats/cat_547.jpg\n",
            "train/cats/cat_548.jpg\n",
            "train/cats/cat_549.jpg\n",
            "train/cats/cat_553.jpg\n",
            "train/cats/cat_556.jpg\n",
            "train/cats/cat_557.jpg\n",
            "train/cats/cat_558.jpg\n",
            "train/cats/cat_559.jpg\n",
            "train/cats/cat_560.jpg\n",
            "train/cats/cat_565.jpg\n",
            "train/cats/cat_567.jpg\n",
            "train/cats/cat_569.jpg\n",
            "train/cats/cat_570.jpg\n",
            "train/cats/cat_573.jpg\n",
            "train/cats/cat_577.jpg\n",
            "train/cats/cat_58.jpg\n",
            "train/cats/cat_580.jpg\n",
            "train/cats/cat_581.jpg\n",
            "train/cats/cat_589.jpg\n",
            "train/cats/cat_59.jpg\n",
            "train/cats/cat_590.jpg\n",
            "train/cats/cat_591.jpg\n",
            "train/cats/cat_592.jpg\n",
            "train/cats/cat_6.jpg\n",
            "train/cats/cat_601.jpg\n",
            "train/cats/cat_602.jpg\n",
            "train/cats/cat_604.jpg\n",
            "train/cats/cat_605.jpg\n",
            "train/cats/cat_61.jpg\n",
            "train/cats/cat_64.jpg\n",
            "train/cats/cat_66.jpg\n",
            "train/cats/cat_67.jpg\n",
            "train/cats/cat_69.jpg\n",
            "train/cats/cat_70.jpg\n",
            "train/cats/cat_74.jpg\n",
            "train/cats/cat_75.jpg\n",
            "train/cats/cat_77.jpg\n",
            "train/cats/cat_78.jpg\n",
            "train/cats/cat_80.jpg\n",
            "train/cats/cat_84.jpg\n",
            "train/cats/cat_87.jpg\n",
            "train/cats/cat_9.jpg\n",
            "train/cats/cat_93.jpg\n",
            "train/cats/cat_95.jpg\n",
            "train/cats/cat_97.jpg\n",
            "train/cats/cat_98.jpg\n",
            "train/dogs/dog_0.jpg\n",
            "train/dogs/dog_10.jpg\n",
            "train/dogs/dog_100.jpg\n",
            "train/dogs/dog_102.jpg\n",
            "train/dogs/dog_103.jpg\n",
            "train/dogs/dog_106.jpg\n",
            "train/dogs/dog_109.jpg\n",
            "train/dogs/dog_11.jpg\n",
            "train/dogs/dog_110.jpg\n",
            "train/dogs/dog_113.jpg\n",
            "train/dogs/dog_116.jpg\n",
            "train/dogs/dog_120.jpg\n",
            "train/dogs/dog_122.jpg\n",
            "train/dogs/dog_125.jpg\n",
            "train/dogs/dog_128.jpg\n",
            "train/dogs/dog_129.jpg\n",
            "train/dogs/dog_13.jpg\n",
            "train/dogs/dog_133.jpg\n",
            "train/dogs/dog_136.jpg\n",
            "train/dogs/dog_138.jpg\n",
            "train/dogs/dog_139.jpg\n",
            "train/dogs/dog_140.jpg\n",
            "train/dogs/dog_144.jpg\n",
            "train/dogs/dog_145.jpg\n",
            "train/dogs/dog_15.jpg\n",
            "train/dogs/dog_151.jpg\n",
            "train/dogs/dog_152.jpg\n",
            "train/dogs/dog_154.jpg\n",
            "train/dogs/dog_156.jpg\n",
            "train/dogs/dog_162.jpg\n",
            "train/dogs/dog_164.jpg\n",
            "train/dogs/dog_165.jpg\n",
            "train/dogs/dog_167.jpg\n",
            "train/dogs/dog_171.jpg\n",
            "train/dogs/dog_175.jpg\n",
            "train/dogs/dog_178.jpg\n",
            "train/dogs/dog_182.jpg\n",
            "train/dogs/dog_186.jpg\n",
            "train/dogs/dog_188.jpg\n",
            "train/dogs/dog_192.jpg\n",
            "train/dogs/dog_193.jpg\n",
            "train/dogs/dog_195.jpg\n",
            "train/dogs/dog_199.jpg\n",
            "train/dogs/dog_200.jpg\n",
            "train/dogs/dog_202.jpg\n",
            "train/dogs/dog_203.jpg\n",
            "train/dogs/dog_204.jpg\n",
            "train/dogs/dog_205.jpg\n",
            "train/dogs/dog_206.jpg\n",
            "train/dogs/dog_207.jpg\n",
            "train/dogs/dog_208.jpg\n",
            "train/dogs/dog_209.jpg\n",
            "train/dogs/dog_21.jpg\n",
            "train/dogs/dog_212.jpg\n",
            "train/dogs/dog_214.jpg\n",
            "train/dogs/dog_216.jpg\n",
            "train/dogs/dog_217.jpg\n",
            "train/dogs/dog_218.jpg\n",
            "train/dogs/dog_22.jpg\n",
            "train/dogs/dog_220.jpg\n",
            "train/dogs/dog_221.jpg\n",
            "train/dogs/dog_224.jpg\n",
            "train/dogs/dog_226.jpg\n",
            "train/dogs/dog_23.jpg\n",
            "train/dogs/dog_230.jpg\n",
            "train/dogs/dog_231.jpg\n",
            "train/dogs/dog_232.jpg\n",
            "train/dogs/dog_234.jpg\n",
            "train/dogs/dog_238.jpg\n",
            "train/dogs/dog_239.jpg\n",
            "train/dogs/dog_241.jpg\n",
            "train/dogs/dog_243.jpg\n",
            "train/dogs/dog_247.jpg\n",
            "train/dogs/dog_249.jpg\n",
            "train/dogs/dog_251.jpg\n",
            "train/dogs/dog_253.jpg\n",
            "train/dogs/dog_256.jpg\n",
            "train/dogs/dog_259.jpg\n",
            "train/dogs/dog_26.jpg\n",
            "train/dogs/dog_260.jpg\n",
            "train/dogs/dog_261.jpg\n",
            "train/dogs/dog_262.jpg\n",
            "train/dogs/dog_266.jpg\n",
            "train/dogs/dog_267.jpg\n",
            "train/dogs/dog_268.jpg\n",
            "train/dogs/dog_269.jpg\n",
            "train/dogs/dog_270.jpg\n",
            "train/dogs/dog_272.jpg\n",
            "train/dogs/dog_273.jpg\n",
            "train/dogs/dog_277.jpg\n",
            "train/dogs/dog_281.jpg\n",
            "train/dogs/dog_286.jpg\n",
            "train/dogs/dog_287.jpg\n",
            "train/dogs/dog_29.jpg\n",
            "train/dogs/dog_290.jpg\n",
            "train/dogs/dog_291.jpg\n",
            "train/dogs/dog_292.jpg\n",
            "train/dogs/dog_293.jpg\n",
            "train/dogs/dog_294.jpg\n",
            "train/dogs/dog_295.jpg\n",
            "train/dogs/dog_296.jpg\n",
            "train/dogs/dog_298.jpg\n",
            "train/dogs/dog_299.jpg\n",
            "train/dogs/dog_3.jpg\n",
            "train/dogs/dog_30.jpg\n",
            "train/dogs/dog_301.jpg\n",
            "train/dogs/dog_305.jpg\n",
            "train/dogs/dog_306.jpg\n",
            "train/dogs/dog_31.jpg\n",
            "train/dogs/dog_315.jpg\n",
            "train/dogs/dog_317.jpg\n",
            "train/dogs/dog_318.jpg\n",
            "train/dogs/dog_32.jpg\n",
            "train/dogs/dog_320.jpg\n",
            "train/dogs/dog_321.jpg\n",
            "train/dogs/dog_322.jpg\n",
            "train/dogs/dog_323.jpg\n",
            "train/dogs/dog_324.jpg\n",
            "train/dogs/dog_325.jpg\n",
            "train/dogs/dog_33.jpg\n",
            "train/dogs/dog_331.jpg\n",
            "train/dogs/dog_332.jpg\n",
            "train/dogs/dog_333.jpg\n",
            "train/dogs/dog_334.jpg\n",
            "train/dogs/dog_335.jpg\n",
            "train/dogs/dog_337.jpg\n",
            "train/dogs/dog_338.jpg\n",
            "train/dogs/dog_341.jpg\n",
            "train/dogs/dog_342.jpg\n",
            "train/dogs/dog_343.jpg\n",
            "train/dogs/dog_345.jpg\n",
            "train/dogs/dog_347.jpg\n",
            "train/dogs/dog_349.jpg\n",
            "train/dogs/dog_35.jpg\n",
            "train/dogs/dog_350.jpg\n",
            "train/dogs/dog_351.jpg\n",
            "train/dogs/dog_358.jpg\n",
            "train/dogs/dog_359.jpg\n",
            "train/dogs/dog_361.jpg\n",
            "train/dogs/dog_363.jpg\n",
            "train/dogs/dog_365.jpg\n",
            "train/dogs/dog_367.jpg\n",
            "train/dogs/dog_368.jpg\n",
            "train/dogs/dog_37.jpg\n",
            "train/dogs/dog_371.jpg\n",
            "train/dogs/dog_375.jpg\n",
            "train/dogs/dog_376.jpg\n",
            "train/dogs/dog_378.jpg\n",
            "train/dogs/dog_381.jpg\n",
            "train/dogs/dog_389.jpg\n",
            "train/dogs/dog_39.jpg\n",
            "train/dogs/dog_391.jpg\n",
            "train/dogs/dog_392.jpg\n",
            "train/dogs/dog_393.jpg\n",
            "train/dogs/dog_4.jpg\n",
            "train/dogs/dog_401.jpg\n",
            "train/dogs/dog_402.jpg\n",
            "train/dogs/dog_403.jpg\n",
            "train/dogs/dog_404.jpg\n",
            "train/dogs/dog_405.jpg\n",
            "train/dogs/dog_407.jpg\n",
            "train/dogs/dog_408.jpg\n",
            "train/dogs/dog_409.jpg\n",
            "train/dogs/dog_412.jpg\n",
            "train/dogs/dog_414.jpg\n",
            "train/dogs/dog_417.jpg\n",
            "train/dogs/dog_418.jpg\n",
            "train/dogs/dog_419.jpg\n",
            "train/dogs/dog_423.jpg\n",
            "train/dogs/dog_427.jpg\n",
            "train/dogs/dog_428.jpg\n",
            "train/dogs/dog_429.jpg\n",
            "train/dogs/dog_432.jpg\n",
            "train/dogs/dog_433.jpg\n",
            "train/dogs/dog_435.jpg\n",
            "train/dogs/dog_436.jpg\n",
            "train/dogs/dog_437.jpg\n",
            "train/dogs/dog_438.jpg\n",
            "train/dogs/dog_440.jpg\n",
            "train/dogs/dog_441.jpg\n",
            "train/dogs/dog_444.jpg\n",
            "train/dogs/dog_445.jpg\n",
            "train/dogs/dog_446.jpg\n",
            "train/dogs/dog_447.jpg\n",
            "train/dogs/dog_448.jpg\n",
            "train/dogs/dog_45.jpg\n",
            "train/dogs/dog_450.jpg\n",
            "train/dogs/dog_451.jpg\n",
            "train/dogs/dog_452.jpg\n",
            "train/dogs/dog_458.jpg\n",
            "train/dogs/dog_466.jpg\n",
            "train/dogs/dog_468.jpg\n",
            "train/dogs/dog_47.jpg\n",
            "train/dogs/dog_471.jpg\n",
            "train/dogs/dog_473.jpg\n",
            "train/dogs/dog_474.jpg\n",
            "train/dogs/dog_475.jpg\n",
            "train/dogs/dog_478.jpg\n",
            "train/dogs/dog_479.jpg\n",
            "train/dogs/dog_480.jpg\n",
            "train/dogs/dog_483.jpg\n",
            "train/dogs/dog_484.jpg\n",
            "train/dogs/dog_485.jpg\n",
            "train/dogs/dog_487.jpg\n",
            "train/dogs/dog_489.jpg\n",
            "train/dogs/dog_490.jpg\n",
            "train/dogs/dog_492.jpg\n",
            "train/dogs/dog_494.jpg\n",
            "train/dogs/dog_496.jpg\n",
            "train/dogs/dog_50.jpg\n",
            "train/dogs/dog_501.jpg\n",
            "train/dogs/dog_502.jpg\n",
            "train/dogs/dog_504.jpg\n",
            "train/dogs/dog_505.jpg\n",
            "train/dogs/dog_509.jpg\n",
            "train/dogs/dog_51.jpg\n",
            "train/dogs/dog_512.jpg\n",
            "train/dogs/dog_513.jpg\n",
            "train/dogs/dog_514.jpg\n",
            "train/dogs/dog_523.jpg\n",
            "train/dogs/dog_525.jpg\n",
            "train/dogs/dog_529.jpg\n",
            "train/dogs/dog_532.jpg\n",
            "train/dogs/dog_533.jpg\n",
            "train/dogs/dog_535.jpg\n",
            "train/dogs/dog_54.jpg\n",
            "train/dogs/dog_540.jpg\n",
            "train/dogs/dog_541.jpg\n",
            "train/dogs/dog_543.jpg\n",
            "train/dogs/dog_545.jpg\n",
            "train/dogs/dog_546.jpg\n",
            "train/dogs/dog_549.jpg\n",
            "train/dogs/dog_550.jpg\n",
            "train/dogs/dog_552.jpg\n",
            "train/dogs/dog_553.jpg\n",
            "train/dogs/dog_554.jpg\n",
            "train/dogs/dog_556.jpg\n",
            "train/dogs/dog_558.jpg\n",
            "train/dogs/dog_559.jpg\n",
            "train/dogs/dog_56.jpg\n",
            "train/dogs/dog_560.jpg\n",
            "train/dogs/dog_564.jpg\n",
            "train/dogs/dog_566.jpg\n",
            "train/dogs/dog_57.jpg\n",
            "train/dogs/dog_570.jpg\n",
            "train/dogs/dog_571.jpg\n",
            "train/dogs/dog_572.jpg\n",
            "train/dogs/dog_576.jpg\n",
            "train/dogs/dog_579.jpg\n",
            "train/dogs/dog_580.jpg\n",
            "train/dogs/dog_582.jpg\n",
            "train/dogs/dog_583.jpg\n",
            "train/dogs/dog_589.jpg\n",
            "train/dogs/dog_591.jpg\n",
            "train/dogs/dog_596.jpg\n",
            "train/dogs/dog_62.jpg\n",
            "train/dogs/dog_67.jpg\n",
            "train/dogs/dog_69.jpg\n",
            "train/dogs/dog_7.jpg\n",
            "train/dogs/dog_70.jpg\n",
            "train/dogs/dog_72.jpg\n",
            "train/dogs/dog_74.jpg\n",
            "train/dogs/dog_76.jpg\n",
            "train/dogs/dog_77.jpg\n",
            "train/dogs/dog_78.jpg\n",
            "train/dogs/dog_8.jpg\n",
            "train/dogs/dog_80.jpg\n",
            "train/dogs/dog_82.jpg\n",
            "train/dogs/dog_84.jpg\n",
            "train/dogs/dog_85.jpg\n",
            "train/dogs/dog_86.jpg\n",
            "train/dogs/dog_9.jpg\n",
            "train/dogs/dog_90.jpg\n",
            "train/dogs/dog_92.jpg\n",
            "train/dogs/dog_93.jpg\n",
            "train/dogs/dog_97.jpg\n",
            "train/dogs/dog_98.jpg\n",
            "train/dogs/dog_99.jpg\n"
          ]
        }
      ]
    },
    {
      "cell_type": "code",
      "source": [
        "zip_ref.close()"
      ],
      "metadata": {
        "id": "tYpGIc6fXXvN"
      },
      "execution_count": 74,
      "outputs": []
    },
    {
      "cell_type": "markdown",
      "source": [
        "**DATA PREPROCESSING**"
      ],
      "metadata": {
        "id": "98-deKmeZrKk"
      }
    },
    {
      "cell_type": "code",
      "source": [
        "# Data Preprocessing\n",
        "train_datagen = ImageDataGenerator(rescale=1./255, shear_range=0.2, zoom_range=0.2, horizontal_flip=True)\n",
        "test_datagen = ImageDataGenerator(rescale=1./255)\n",
        "\n",
        "train_generator = train_datagen.flow_from_directory(\n",
        "    '/content/train',\n",
        "    target_size=(150, 150),\n",
        "    batch_size=32,\n",
        "    class_mode='binary')\n",
        "\n",
        "validation_generator = test_datagen.flow_from_directory(\n",
        "    '/content/test',\n",
        "    target_size=(150, 150),\n",
        "    batch_size=32,\n",
        "    class_mode='binary')"
      ],
      "metadata": {
        "colab": {
          "base_uri": "https://localhost:8080/"
        },
        "id": "Nhgdp3hYQgsF",
        "outputId": "da2ea34a-de7f-482a-df7d-c1b7d19d0671"
      },
      "execution_count": 33,
      "outputs": [
        {
          "output_type": "stream",
          "name": "stdout",
          "text": [
            "Found 557 images belonging to 2 classes.\n",
            "Found 140 images belonging to 2 classes.\n"
          ]
        }
      ]
    },
    {
      "cell_type": "markdown",
      "source": [
        "**BUILDING THE MODEL**"
      ],
      "metadata": {
        "id": "55z9fo4TZuUb"
      }
    },
    {
      "cell_type": "code",
      "source": [
        "# Building the CNN\n",
        "model = Sequential()\n",
        "model.add(Conv2D(32, (3, 3), input_shape=(150, 150, 3), activation='relu'))\n",
        "model.add(MaxPooling2D(pool_size=(2, 2)))\n",
        "model.add(Conv2D(64, (3, 3), activation='relu'))\n",
        "model.add(MaxPooling2D(pool_size=(2, 2)))\n",
        "model.add(Conv2D(128, (3, 3), activation='relu'))\n",
        "model.add(MaxPooling2D(pool_size=(2, 2)))\n",
        "model.add(Conv2D(128, (3, 3), activation='relu'))\n",
        "model.add(MaxPooling2D(pool_size=(2, 2)))\n",
        "model.add(Flatten())\n",
        "model.add(Dense(512, activation='relu'))\n",
        "model.add(Dense(1, activation='sigmoid'))"
      ],
      "metadata": {
        "id": "AtA8Y4pHRVD7"
      },
      "execution_count": 34,
      "outputs": []
    },
    {
      "cell_type": "markdown",
      "source": [
        "**SUMMARY THE BUILDED MODEL IS LISTED**"
      ],
      "metadata": {
        "id": "K_nwoVPjZyEx"
      }
    },
    {
      "cell_type": "code",
      "source": [
        "model.summary()"
      ],
      "metadata": {
        "colab": {
          "base_uri": "https://localhost:8080/"
        },
        "id": "c1LNLviEYybF",
        "outputId": "19d06c47-4ffd-432f-fe36-711d47bf01fc"
      },
      "execution_count": 77,
      "outputs": [
        {
          "output_type": "stream",
          "name": "stdout",
          "text": [
            "Model: \"sequential\"\n",
            "_________________________________________________________________\n",
            " Layer (type)                Output Shape              Param #   \n",
            "=================================================================\n",
            " conv2d (Conv2D)             (None, 148, 148, 32)      896       \n",
            "                                                                 \n",
            " max_pooling2d (MaxPooling2  (None, 74, 74, 32)        0         \n",
            " D)                                                              \n",
            "                                                                 \n",
            " conv2d_1 (Conv2D)           (None, 72, 72, 64)        18496     \n",
            "                                                                 \n",
            " max_pooling2d_1 (MaxPoolin  (None, 36, 36, 64)        0         \n",
            " g2D)                                                            \n",
            "                                                                 \n",
            " conv2d_2 (Conv2D)           (None, 34, 34, 128)       73856     \n",
            "                                                                 \n",
            " max_pooling2d_2 (MaxPoolin  (None, 17, 17, 128)       0         \n",
            " g2D)                                                            \n",
            "                                                                 \n",
            " conv2d_3 (Conv2D)           (None, 15, 15, 128)       147584    \n",
            "                                                                 \n",
            " max_pooling2d_3 (MaxPoolin  (None, 7, 7, 128)         0         \n",
            " g2D)                                                            \n",
            "                                                                 \n",
            " flatten (Flatten)           (None, 6272)              0         \n",
            "                                                                 \n",
            " dense (Dense)               (None, 512)               3211776   \n",
            "                                                                 \n",
            " dense_1 (Dense)             (None, 1)                 513       \n",
            "                                                                 \n",
            "=================================================================\n",
            "Total params: 3453121 (13.17 MB)\n",
            "Trainable params: 3453121 (13.17 MB)\n",
            "Non-trainable params: 0 (0.00 Byte)\n",
            "_________________________________________________________________\n"
          ]
        }
      ]
    },
    {
      "cell_type": "code",
      "source": [
        "# Compiling the CNN\n",
        "model.compile(optimizer='adam', loss='binary_crossentropy', metrics=['accuracy'])"
      ],
      "metadata": {
        "id": "6fStmtTtRZvK"
      },
      "execution_count": 35,
      "outputs": []
    },
    {
      "cell_type": "markdown",
      "source": [
        "**TRAIN THE MODEL**"
      ],
      "metadata": {
        "id": "OyxPUcwEZ5I2"
      }
    },
    {
      "cell_type": "code",
      "source": [
        "# Train the model\n",
        "history = model.fit(train_generator,\n",
        "                    steps_per_epoch=train_generator.samples // train_generator.batch_size,\n",
        "                    epochs=10)\n"
      ],
      "metadata": {
        "colab": {
          "base_uri": "https://localhost:8080/"
        },
        "id": "AcKkinBZRmAm",
        "outputId": "2bc974c4-dfda-408d-a1d0-696c7ca0dcb1"
      },
      "execution_count": 36,
      "outputs": [
        {
          "output_type": "stream",
          "name": "stdout",
          "text": [
            "Epoch 1/10\n",
            "17/17 [==============================] - 39s 2s/step - loss: 0.7099 - accuracy: 0.4990\n",
            "Epoch 2/10\n",
            "17/17 [==============================] - 31s 2s/step - loss: 0.6903 - accuracy: 0.5448\n",
            "Epoch 3/10\n",
            "17/17 [==============================] - 33s 2s/step - loss: 0.6957 - accuracy: 0.5105\n",
            "Epoch 4/10\n",
            "17/17 [==============================] - 33s 2s/step - loss: 0.6795 - accuracy: 0.5882\n",
            "Epoch 5/10\n",
            "17/17 [==============================] - 30s 2s/step - loss: 0.6484 - accuracy: 0.6229\n",
            "Epoch 6/10\n",
            "17/17 [==============================] - 31s 2s/step - loss: 0.6621 - accuracy: 0.5981\n",
            "Epoch 7/10\n",
            "17/17 [==============================] - 31s 2s/step - loss: 0.6245 - accuracy: 0.6857\n",
            "Epoch 8/10\n",
            "17/17 [==============================] - 32s 2s/step - loss: 0.6076 - accuracy: 0.6610\n",
            "Epoch 9/10\n",
            "17/17 [==============================] - 30s 2s/step - loss: 0.5921 - accuracy: 0.6781\n",
            "Epoch 10/10\n",
            "17/17 [==============================] - 30s 2s/step - loss: 0.6258 - accuracy: 0.6724\n"
          ]
        }
      ]
    },
    {
      "cell_type": "markdown",
      "source": [
        "**EVALUATE THE MODEL**"
      ],
      "metadata": {
        "id": "keAu1ebJZ7w0"
      }
    },
    {
      "cell_type": "code",
      "source": [
        "# Evaluate the model on test data\n",
        "test_datagen = ImageDataGenerator(rescale=1./255)\n",
        "test_generator = test_datagen.flow_from_directory('/content/test',\n",
        "                                                  target_size=(150, 150),\n",
        "                                                  batch_size=32,\n",
        "                                                  class_mode='binary')\n",
        "\n",
        "test_loss, test_acc = model.evaluate(test_generator)\n",
        "print(f\"Test accuracy: {test_acc:.4f}\")"
      ],
      "metadata": {
        "colab": {
          "base_uri": "https://localhost:8080/"
        },
        "id": "WNZMoa3VTQw8",
        "outputId": "c7665f2a-d26b-4ebc-fe40-51680280a8c4"
      },
      "execution_count": 43,
      "outputs": [
        {
          "output_type": "stream",
          "name": "stdout",
          "text": [
            "Found 140 images belonging to 2 classes.\n",
            "5/5 [==============================] - 4s 642ms/step - loss: 0.6829 - accuracy: 0.6071\n",
            "Test accuracy: 0.6071\n"
          ]
        }
      ]
    },
    {
      "cell_type": "markdown",
      "source": [
        "**VISUALIZATION**"
      ],
      "metadata": {
        "id": "dTNAyQWkaBSO"
      }
    },
    {
      "cell_type": "code",
      "source": [
        "import matplotlib.pyplot as plt"
      ],
      "metadata": {
        "id": "YF9oFcy8Verq"
      },
      "execution_count": 51,
      "outputs": []
    },
    {
      "cell_type": "code",
      "source": [
        "from sklearn.metrics import confusion_matrix\n",
        "import seaborn as sns"
      ],
      "metadata": {
        "id": "TKP83f6TY8rC"
      },
      "execution_count": null,
      "outputs": []
    },
    {
      "cell_type": "code",
      "source": [
        "y_true = [1, 0, 1, 1, 0, 0, 1]\n",
        "y_pred = [0, 0, 1, 1, 0, 1, 0]\n",
        "y_scores = [0.1, 0.8, 0.7, 0.2, 0.9,0.3,0.5]"
      ],
      "metadata": {
        "id": "vOba6hghVfx0"
      },
      "execution_count": 63,
      "outputs": []
    },
    {
      "cell_type": "markdown",
      "source": [
        "**VISUALIZATION THROUGH CONFUSION MATRIX**"
      ],
      "metadata": {
        "id": "DSyoy650aD9K"
      }
    },
    {
      "cell_type": "code",
      "source": [
        "# Assuming you have true labels (y_true) and predicted labels (y_pred)\n",
        "cm = confusion_matrix(y_true, y_pred)\n",
        "sns.heatmap(cm, annot=True, cmap='Blues')\n",
        "plt.xlabel('Test Labels')\n",
        "plt.ylabel('Train Labels')\n",
        "plt.show()"
      ],
      "metadata": {
        "colab": {
          "base_uri": "https://localhost:8080/",
          "height": 455
        },
        "id": "MGA79ZFdViS_",
        "outputId": "941437f2-0a5e-4e64-acd4-8d318af23ad5"
      },
      "execution_count": 54,
      "outputs": [
        {
          "output_type": "display_data",
          "data": {
            "text/plain": [
              "<Figure size 640x480 with 2 Axes>"
            ],
            "image/png": "[encoded data removed]"
          },
          "metadata": {}
        }
      ]
    },
    {
      "cell_type": "markdown",
      "source": [
        "**VISUALIZATION THROUGH ROC CURVE**"
      ],
      "metadata": {
        "id": "tGWPvzgLaLqZ"
      }
    },
    {
      "cell_type": "code",
      "source": [
        "print(y_scores)"
      ],
      "metadata": {
        "colab": {
          "base_uri": "https://localhost:8080/"
        },
        "id": "8oUCgZjMV08c",
        "outputId": "8d2e75d0-597d-427d-abb8-a7ff3e675da0"
      },
      "execution_count": 59,
      "outputs": [
        {
          "output_type": "stream",
          "name": "stdout",
          "text": [
            "[0.1, 0.8, 0.7, 0.2, 0.9]\n"
          ]
        }
      ]
    },
    {
      "cell_type": "code",
      "source": [
        "assert len(y_true) == len(y_scores), \"y_true and y_scores must have the same length.\""
      ],
      "metadata": {
        "id": "fNXeYiucWN0c"
      },
      "execution_count": 64,
      "outputs": []
    },
    {
      "cell_type": "code",
      "source": [
        "print(f\"Length of y_true: {len(y_true)}\")\n",
        "print(f\"Length of y_scores: {len(y_scores)}\")"
      ],
      "metadata": {
        "colab": {
          "base_uri": "https://localhost:8080/"
        },
        "id": "qyph2xSWWZtv",
        "outputId": "eaa8c379-3d20-4dec-f3c5-3493099f0bad"
      },
      "execution_count": 65,
      "outputs": [
        {
          "output_type": "stream",
          "name": "stdout",
          "text": [
            "Length of y_true: 7\n",
            "Length of y_scores: 7\n"
          ]
        }
      ]
    },
    {
      "cell_type": "code",
      "source": [
        "fpr, tpr, thresholds = roc_curve(y_true, y_scores)\n",
        "plt.plot(fpr, tpr, label='Cats VS Dogs')\n",
        "plt.plot([0, 1], [0, 1], 'k--')\n",
        "plt.xlabel('False Positive Rate')\n",
        "plt.ylabel('True Positive Rate')\n",
        "plt.title('ROC Curve')\n",
        "plt.legend()\n",
        "plt.show()"
      ],
      "metadata": {
        "colab": {
          "base_uri": "https://localhost:8080/",
          "height": 472
        },
        "id": "noBbrutmWdMz",
        "outputId": "9983d4bf-7e49-42b4-f5dc-ecdd687a000b"
      },
      "execution_count": 67,
      "outputs": [
        {
          "output_type": "display_data",
          "data": {
            "text/plain": [
              "<Figure size 640x480 with 1 Axes>"
            ],
            "image/png": "[encoded data removed]"
          },
          "metadata": {}
        }
      ]
    },
    {
      "cell_type": "markdown",
      "source": [
        "**VISUALIZATION THROUGH PRECISION RECALL CURVE**"
      ],
      "metadata": {
        "id": "DAYlqh9KaR6c"
      }
    },
    {
      "cell_type": "code",
      "source": [
        "from sklearn.metrics import precision_recall_curve\n",
        "\n",
        "precision, recall, _ = precision_recall_curve(y_true, y_scores)\n",
        "plt.plot(recall, precision, label='Precision-Recall curve')\n",
        "plt.xlabel('Recall')\n",
        "plt.ylabel('Precision')\n",
        "plt.title('Precision-Recall Curve')\n",
        "plt.legend()\n",
        "plt.show()\n"
      ],
      "metadata": {
        "colab": {
          "base_uri": "https://localhost:8080/",
          "height": 472
        },
        "id": "C1EF6QrCWnI4",
        "outputId": "a91f2760-5604-419c-a7c4-a136acce4e79"
      },
      "execution_count": 68,
      "outputs": [
        {
          "output_type": "display_data",
          "data": {
            "text/plain": [
              "<Figure size 640x480 with 1 Axes>"
            ],
            "image/png": "[encoded data removed]"
          },
          "metadata": {}
        }
      ]
    }
  ],
  "metadata": {
    "colab": {
      "provenance": []
    },
    "kernelspec": {
      "display_name": "Python 3",
      "name": "python3"
    },
    "language_info": {
      "name": "python"
    }
  },
  "nbformat": 4,
  "nbformat_minor": 0
}